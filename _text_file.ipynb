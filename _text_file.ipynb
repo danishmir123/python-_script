{
  "nbformat": 4,
  "nbformat_minor": 0,
  "metadata": {
    "colab": {
      "provenance": [],
      "authorship_tag": "ABX9TyNAm/ts4LRm1pVfZm+f5zDo",
      "include_colab_link": true
    },
    "kernelspec": {
      "name": "python3",
      "display_name": "Python 3"
    },
    "language_info": {
      "name": "python"
    }
  },
  "cells": [
    {
      "cell_type": "markdown",
      "metadata": {
        "id": "view-in-github",
        "colab_type": "text"
      },
      "source": [
        "<a href=\"https://colab.research.google.com/github/danishmir123/python-_script/blob/main/_text_file.ipynb\" target=\"_parent\"><img src=\"https://colab.research.google.com/assets/colab-badge.svg\" alt=\"Open In Colab\"/></a>"
      ]
    },
    {
      "cell_type": "code",
      "execution_count": 2,
      "metadata": {
        "colab": {
          "base_uri": "https://localhost:8080/"
        },
        "id": "Da9qzsxur2nm",
        "outputId": "ba3e30b8-87b7-4334-a95f-87a0da7b0fd9"
      },
      "outputs": [
        {
          "output_type": "stream",
          "name": "stdout",
          "text": [
            "✅ Headlines scraped and saved to 'news_headlines.txt'\n"
          ]
        }
      ],
      "source": [
        "import requests\n",
        "url = \"https://www.bbc.com/news\"\n",
        "response = requests.get(url)\n",
        "html_content = response.text\n",
        "soup = BeautifulSoup(html_content, \"html.parser\")\n",
        "headlines = soup.find_all(\"h3\")\n",
        "headline_list = [headline.get_text(strip=True) for headline in headlines if headline.get_text(strip=True)]\n",
        "with open(\"news_headlines.txt\", \"w\", encoding=\"utf-8\") as file:\n",
        "    for idx, title in enumerate(headline_list, start=1):\n",
        "        file.write(f\"{idx}. {title}\\n\")\n",
        "\n",
        "print(\"✅ Headlines scraped and saved to 'news_headlines.txt'\")\n"
      ]
    }
  ]
}